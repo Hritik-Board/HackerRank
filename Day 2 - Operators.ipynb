{
 "cells": [
  {
   "cell_type": "code",
   "execution_count": 1,
   "metadata": {},
   "outputs": [
    {
     "name": "stdout",
     "output_type": "stream",
     "text": [
      "23\n",
      "3\n",
      "3\n",
      "24\n"
     ]
    }
   ],
   "source": [
    "#!/bin/python3\n",
    "\n",
    "import math\n",
    "import os\n",
    "import random\n",
    "import re\n",
    "import sys\n",
    "\n",
    "# Complete the solve function below.\n",
    "def solve(meal_cost, tip_percent, tax_percent):\n",
    "\n",
    "    if __name__ == '__main__':\n",
    "        meal_cost = float(input())\n",
    "\n",
    "        tip_percent = int(input())\n",
    "\n",
    "        tax_percent = int(input())\n",
    "\n",
    "        tip_cost=meal_cost*(tip_percent/100)\n",
    "        tax_cost=meal_cost*(tax_percent/100)\n",
    "        cost=meal_cost+tip_cost+tax_cost\n",
    "\n",
    "        return cost\n",
    "totalCost=solve(12.00, 20,8)\n",
    "print(round(totalCost))\n"
   ]
  },
  {
   "cell_type": "code",
   "execution_count": null,
   "metadata": {},
   "outputs": [],
   "source": []
  }
 ],
 "metadata": {
  "kernelspec": {
   "display_name": "Python 3",
   "language": "python",
   "name": "python3"
  },
  "language_info": {
   "codemirror_mode": {
    "name": "ipython",
    "version": 3
   },
   "file_extension": ".py",
   "mimetype": "text/x-python",
   "name": "python",
   "nbconvert_exporter": "python",
   "pygments_lexer": "ipython3",
   "version": "3.7.3"
  }
 },
 "nbformat": 4,
 "nbformat_minor": 2
}
