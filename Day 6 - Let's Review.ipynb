{
 "cells": [
  {
   "cell_type": "code",
   "execution_count": null,
   "metadata": {},
   "outputs": [],
   "source": [
    "# Enter your code here. Read input from STDIN. Print output to STDOUT\n",
    "\n",
    "T=int(input())\n",
    "list1=[]\n",
    "list2=[]\n",
    "for i in range(1,T+1):\n",
    "    list1=[]\n",
    "    list2=[]\n",
    "    S=input()\n",
    "    for j in range(0,len(S)):\n",
    "        if j%2==0:\n",
    "            list1.append(S[j])\n",
    "        else:\n",
    "            list2.append(S[j])\n",
    "    print(''.join(list1), ''.join(list2))\n",
    "\n"
   ]
  }
 ],
 "metadata": {
  "kernelspec": {
   "display_name": "Python 3",
   "language": "python",
   "name": "python3"
  },
  "language_info": {
   "codemirror_mode": {
    "name": "ipython",
    "version": 3
   },
   "file_extension": ".py",
   "mimetype": "text/x-python",
   "name": "python",
   "nbconvert_exporter": "python",
   "pygments_lexer": "ipython3",
   "version": "3.7.3"
  }
 },
 "nbformat": 4,
 "nbformat_minor": 2
}
