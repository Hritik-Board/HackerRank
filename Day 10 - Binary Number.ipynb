{
 "cells": [
  {
   "cell_type": "code",
   "execution_count": null,
   "metadata": {},
   "outputs": [],
   "source": [
    "#!/bin/python3\n",
    "\n",
    "import math\n",
    "import os\n",
    "import random\n",
    "import re\n",
    "import sys\n",
    "\n",
    "\n",
    "\n",
    "if __name__ == '__main__':\n",
    "    n = int(input())\n",
    "    binary=[]\n",
    "    while(n>0):\n",
    "        remainder=n%2\n",
    "        n=int(n/2)\n",
    "        binary.append(remainder)\n",
    "    \n",
    "    \n",
    "\n",
    "bin2=list(reversed(binary))\n",
    "counter=0\n",
    "maxcount=1\n",
    "for i in bin2:\n",
    "    if i==True:\n",
    "        counter=counter+1\n",
    "        if counter>maxcount:\n",
    "            maxcount=counter\n",
    "    else:\n",
    "        counter=0\n",
    "        \n",
    "        \n",
    "print(maxcount)\n"
   ]
  }
 ],
 "metadata": {
  "kernelspec": {
   "display_name": "Python 3",
   "language": "python",
   "name": "python3"
  },
  "language_info": {
   "codemirror_mode": {
    "name": "ipython",
    "version": 3
   },
   "file_extension": ".py",
   "mimetype": "text/x-python",
   "name": "python",
   "nbconvert_exporter": "python",
   "pygments_lexer": "ipython3",
   "version": "3.7.3"
  }
 },
 "nbformat": 4,
 "nbformat_minor": 2
}
