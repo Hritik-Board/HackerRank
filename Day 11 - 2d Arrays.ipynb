{
 "cells": [
  {
   "cell_type": "code",
   "execution_count": 1,
   "metadata": {},
   "outputs": [
    {
     "name": "stdout",
     "output_type": "stream",
     "text": [
      "1 2 3 4 5 6\n",
      "1 2 3 4 5 6\n",
      "1 2 3 4\n",
      "1 2 3 4 5\n",
      "1 1 1 1 1 1\n",
      "1 1 1 1 1 1\n"
     ]
    }
   ],
   "source": [
    "arr = []\n",
    "\n",
    "for _ in range(6):\n",
    "    arr.append(list(map(int, input().rstrip().split())))"
   ]
  },
  {
   "cell_type": "code",
   "execution_count": 2,
   "metadata": {},
   "outputs": [
    {
     "name": "stdout",
     "output_type": "stream",
     "text": [
      "1 1 1 0 0 0 \n",
      "0 1 0 0 0 0\n",
      "1 1 1 0 0 0\n",
      "0 0 2 4 4 0\n",
      "0 0 0 2 0 0\n",
      "0 0 1 2 4 0\n",
      "19\n"
     ]
    }
   ],
   "source": [
    "\n",
    "smax = -9 * 7\n",
    "#taking any random value so that any value cannot be bigger than that\n",
    "\n",
    "for row in range(len(arr) - 2):\n",
    "\tfor column in range(len(arr[row]) - 2):\n",
    "#minus 2 just because index will be out of range as col+2 is at the bottom\n",
    "\t\ta = arr[row][column]\n",
    "\t\tb = arr[row][column + 1]\n",
    "\t\tc = arr[row][column + 2]\n",
    "\t\td = arr[row + 1][column + 1]\n",
    "\t\te = arr[row + 2][column]\n",
    "\t\tf = arr[row + 2][column + 1]\n",
    "\t\tg = arr[row + 2][column + 2]\n",
    "\t\ts = a + b + c + d + e + f + g\n",
    "\t\tsmax = max(s, smax)\n",
    "\n",
    "print(smax)"
   ]
  },
  {
   "cell_type": "code",
   "execution_count": 3,
   "metadata": {},
   "outputs": [
    {
     "data": {
      "text/plain": [
       "6"
      ]
     },
     "execution_count": 3,
     "metadata": {},
     "output_type": "execute_result"
    }
   ],
   "source": [
    "len(arr)"
   ]
  },
  {
   "cell_type": "code",
   "execution_count": null,
   "metadata": {},
   "outputs": [],
   "source": []
  }
 ],
 "metadata": {
  "kernelspec": {
   "display_name": "Python 3",
   "language": "python",
   "name": "python3"
  },
  "language_info": {
   "codemirror_mode": {
    "name": "ipython",
    "version": 3
   },
   "file_extension": ".py",
   "mimetype": "text/x-python",
   "name": "python",
   "nbconvert_exporter": "python",
   "pygments_lexer": "ipython3",
   "version": "3.7.3"
  }
 },
 "nbformat": 4,
 "nbformat_minor": 2
}
